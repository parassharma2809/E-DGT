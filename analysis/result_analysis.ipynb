{
 "cells": [
  {
   "cell_type": "markdown",
   "id": "8df5145c-00e7-4a21-a46f-bb9aee4afff9",
   "metadata": {},
   "source": [
    "# Valid Dataset"
   ]
  },
  {
   "cell_type": "code",
   "execution_count": 1,
   "id": "e0fe01d4-3ae0-4423-88d4-a6f62efc17fd",
   "metadata": {},
   "outputs": [],
   "source": [
    "import sys\n",
    "sys.path.insert(1, '..')"
   ]
  },
  {
   "cell_type": "code",
   "execution_count": 2,
   "id": "5934cdae-fd12-4a4b-9860-92d8939ab17e",
   "metadata": {},
   "outputs": [],
   "source": [
    "from preprocess.json_utils import load_json_l_qa, load_json"
   ]
  },
  {
   "cell_type": "code",
   "execution_count": 3,
   "id": "7b5a3ce6-f5da-4943-ab2c-70b88895377a",
   "metadata": {},
   "outputs": [],
   "source": [
    "valid_data = load_json_l_qa('../data/qa/qa_val_processed.jsonl')\n",
    "modified_valid_data = {}\n",
    "for k, v in valid_data.items():\n",
    "    modified_valid_data[v['qid']] = v"
   ]
  },
  {
   "cell_type": "code",
   "execution_count": 4,
   "id": "4215ce03-1445-4886-b281-d444f1ef432e",
   "metadata": {},
   "outputs": [],
   "source": [
    "video_to_transcripts_dict = load_json('../preprocess/video_to_transcripts.json')"
   ]
  },
  {
   "cell_type": "markdown",
   "id": "baf2253f-ba6a-475f-8c04-4ff546505bf8",
   "metadata": {},
   "source": [
    "## Longest Answer Baseline"
   ]
  },
  {
   "cell_type": "code",
   "execution_count": 5,
   "id": "f0f7a305-4638-4f93-8158-9d74c0bd0b6a",
   "metadata": {},
   "outputs": [
    {
     "name": "stdout",
     "output_type": "stream",
     "text": [
      "Longest Answer accuracy 0.35624284077892326\n"
     ]
    }
   ],
   "source": [
    "correct_pred = 0\n",
    "for k, v in modified_valid_data.items():\n",
    "    m_l, a_id = 0, -1\n",
    "    if len(v['a0'].split()) > m_l:\n",
    "        m_l = len(v['a0'].split())\n",
    "        a_id = 0\n",
    "    if len(v['a1'].split()) > m_l:\n",
    "        m_l = len(v['a1'].split())\n",
    "        a_id = 1\n",
    "    if len(v['a2'].split()) > m_l:\n",
    "        m_l = len(v['a2'].split())\n",
    "        a_id = 2\n",
    "    if len(v['a3'].split()) > m_l:\n",
    "        m_l = len(v['a3'].split())\n",
    "        a_id = 3\n",
    "    if a_id == v['answer_idx']:\n",
    "        correct_pred += 1\n",
    "print(f'Longest Answer accuracy {correct_pred / len(modified_valid_data)}')"
   ]
  },
  {
   "cell_type": "markdown",
   "id": "e0cc6929-b160-47cb-8b7a-29aedc7d8379",
   "metadata": {},
   "source": [
    "## TranscriptFusion Model Analysis"
   ]
  },
  {
   "cell_type": "code",
   "execution_count": 6,
   "id": "1067224a-fb36-4089-bcab-8bc51c89469f",
   "metadata": {},
   "outputs": [],
   "source": [
    "qid2preds_tqa = load_json('qid2preds_valid_tqa.json')"
   ]
  },
  {
   "cell_type": "code",
   "execution_count": 7,
   "id": "e2d94833-e82e-4072-87da-32407eb409b0",
   "metadata": {},
   "outputs": [],
   "source": [
    "mismatched_preds_dict = {}\n",
    "for k, v in qid2preds_tqa.items():\n",
    "    if v != modified_valid_data[k]['answer_idx']:\n",
    "        mismatched_preds_dict[k] = v"
   ]
  },
  {
   "cell_type": "code",
   "execution_count": 17,
   "id": "b39aa97f-8630-4101-918e-72bbf1d7ab2a",
   "metadata": {},
   "outputs": [],
   "source": [
    "import random\n",
    "n = random.randint(0, len(mismatched_preds_dict))\n",
    "qid_key = list(mismatched_preds_dict.keys())[n]"
   ]
  },
  {
   "cell_type": "code",
   "execution_count": 18,
   "id": "c5950714-76a2-4e51-a5c6-8362f8e00ea3",
   "metadata": {},
   "outputs": [
    {
     "name": "stdout",
     "output_type": "stream",
     "text": [
      "Question (ARD5AUnl7_M_q3_0):- How does the woman feel as the white haired man is telling the man in the red tie that only she can perform the songs?\n",
      "Predicted Answer:- The woman feels apathetic about her husband standing up for her to the man in the red\n",
      "Actual Answer:- The woman feels proud of her husband for standing up for her to the man in the red tie\n",
      "Transcripts\n",
      "0:0-0:2: the absolute best me she's already\n",
      "expressed to enthusiasms to being\n",
      "0:2-0:5: expressed to enthusiasms to being\n",
      "directed by you she's ecstatic I am NOT\n",
      "0:5-0:9: directed by you she's ecstatic I am NOT\n",
      "interested what is it you have against\n",
      "her\n",
      "0:9-0:11: her\n",
      "nothing I've never even met her I've\n",
      "0:11-0:13: nothing I've never even met her I've\n",
      "never even met her you've never even\n",
      "0:13-0:24: never even met her you've never even\n",
      "miss her so much that's enough I'm sorry\n",
      "0:24-0:29: miss her so much that's enough I'm sorry\n",
      "I just do not understand what exactly is\n",
      "0:29-0:31: I just do not understand what exactly is\n",
      "the problem the problem is that I\n",
      "0:31-0:34: the problem the problem is that I\n",
      "compose the simple songs for my wife and\n",
      "0:34-0:37: compose the simple songs for my wife and\n",
      "only she has ever performed them and\n",
      "0:37-0:40: only she has ever performed them and\n",
      "only she has recorded them and as long\n",
      "0:40-0:42: only she has recorded them and as long\n",
      "as I lived she will be the only one to\n",
      "0:42-0:43: as I lived she will be the only one to\n",
      "sing them\n",
      "0:43-0:49: sing them\n",
      "the problem is dear sir my wife can't\n",
      "0:49-0:59: the problem is dear sir my wife can't\n",
      "sing anymore\n"
     ]
    }
   ],
   "source": [
    "q = modified_valid_data[qid_key]['q']\n",
    "pred_ans = modified_valid_data[qid_key][f'a{mismatched_preds_dict[qid_key]}']\n",
    "correct_ans_idx = modified_valid_data[qid_key]['answer_idx']\n",
    "correct_ans = modified_valid_data[qid_key][f'a{correct_ans_idx}']\n",
    "print(f'Question ({qid_key}):- {q}')\n",
    "print(f'Predicted Answer:- {pred_ans}')\n",
    "print(f'Actual Answer:- {correct_ans}')\n",
    "print('Transcripts')\n",
    "for s in video_to_transcripts_dict[qid_key.split('_q')[0]].split('\\n'):\n",
    "    if ':' in s:\n",
    "        t1, t2 = s.split(': ')[0].split('-')\n",
    "        if t1 == t2:\n",
    "            continue\n",
    "        print(s)\n",
    "    else:\n",
    "        print(s)"
   ]
  },
  {
   "cell_type": "markdown",
   "id": "5c010add-1b52-472e-a11c-77eb7e0f58dc",
   "metadata": {},
   "source": [
    "## AudioTranscriptFusion Model Analysis"
   ]
  },
  {
   "cell_type": "code",
   "execution_count": 19,
   "id": "d504e22c-76b8-433d-ab7f-3bb730241745",
   "metadata": {},
   "outputs": [],
   "source": [
    "qid2preds_atqa = load_json('qid2preds_valid_atqa.json')"
   ]
  },
  {
   "cell_type": "code",
   "execution_count": 20,
   "id": "8292a430-ba19-445c-95a8-ac3ae9e9139b",
   "metadata": {},
   "outputs": [],
   "source": [
    "mismatched_preds_at_dict = {}\n",
    "for k, v in qid2preds_atqa.items():\n",
    "    if v != modified_valid_data[k]['answer_idx']:\n",
    "        mismatched_preds_at_dict[k] = v"
   ]
  },
  {
   "cell_type": "code",
   "execution_count": 22,
   "id": "2b86372c-d83b-49fa-bc46-d73cb285f5f1",
   "metadata": {},
   "outputs": [],
   "source": [
    "n2 = random.randint(0, len(mismatched_preds_at_dict))\n",
    "qid_at_key = list(mismatched_preds_at_dict.keys())[n2]"
   ]
  },
  {
   "cell_type": "code",
   "execution_count": 25,
   "id": "818dfa60-f27a-4d42-8f2c-6fb16d87a036",
   "metadata": {},
   "outputs": [
    {
     "name": "stdout",
     "output_type": "stream",
     "text": [
      "Question (I9XhyQS9tYk_q5_0):- How does the man in white feel about the other person\n",
      "Predicted Answer:- The man in the white seems to be pleasantly surprised that the other man decided to take this\n",
      "Actual Answer:- The man in white seems to be irritated that the other man decided to take this route.\n",
      "Transcripts\n",
      "0:3-0:4: what you get i got no service\n",
      "0:4-0:6: what about you\n",
      "0:6-0:8: i hardly get service in the city let\n",
      "0:8-0:11: alone the desert\n",
      "0:11-0:13: yeah i got nothing man\n",
      "0:13-0:15: where the hell are we anyway\n",
      "0:15-0:19: uh\n",
      "0:28-0:29: we um we passed this dot\n",
      "0:29-0:31: about an hour ago\n",
      "0:31-0:32: i think we're in here somewhere it's\n",
      "0:32-0:34: like 60 miles back\n",
      "0:34-0:36: wow it's like 100 miles to the next stop\n",
      "0:36-0:37: what the hell are you doing driving us\n",
      "0:37-0:39: through the middle of nowhere we're\n",
      "0:39-0:41: taking the scenic route remember\n",
      "0:41-0:44: my scenic i was thinking\n",
      "0:44-0:46: i don't know more trees mountains people\n",
      "0:46-0:48: dots a lot closer together but scenic i\n",
      "0:48-0:50: meant\n",
      "0:50-0:52: rarely seen\n",
      "0:52-0:55: i'm gonna get you a dictionary when we\n",
      "0:55-0:57: get back\n"
     ]
    }
   ],
   "source": [
    "q_at = modified_valid_data[qid_at_key]['q']\n",
    "pred_at_ans = modified_valid_data[qid_at_key][f'a{mismatched_preds_at_dict[qid_at_key]}']\n",
    "correct_at_ans_idx = modified_valid_data[qid_at_key]['answer_idx']\n",
    "correct_at_ans = modified_valid_data[qid_at_key][f'a{correct_at_ans_idx}']\n",
    "print(f'Question ({qid_at_key}):- {q_at}')\n",
    "print(f'Predicted Answer:- {pred_at_ans}')\n",
    "print(f'Actual Answer:- {correct_at_ans}')\n",
    "print('Transcripts')\n",
    "for s in video_to_transcripts_dict[qid_at_key.split('_q')[0]].split('\\n'):\n",
    "    if ':' in s:\n",
    "        t1, t2 = s.split(': ')[0].split('-')\n",
    "        if t1 == t2:\n",
    "            continue\n",
    "        print(s)"
   ]
  },
  {
   "cell_type": "code",
   "execution_count": null,
   "id": "05367bf9-c437-4ac8-9d47-91485de6100b",
   "metadata": {},
   "outputs": [],
   "source": []
  }
 ],
 "metadata": {
  "kernelspec": {
   "display_name": "Python 3 (ipykernel)",
   "language": "python",
   "name": "python3"
  },
  "language_info": {
   "codemirror_mode": {
    "name": "ipython",
    "version": 3
   },
   "file_extension": ".py",
   "mimetype": "text/x-python",
   "name": "python",
   "nbconvert_exporter": "python",
   "pygments_lexer": "ipython3",
   "version": "3.8.18"
  }
 },
 "nbformat": 4,
 "nbformat_minor": 5
}
